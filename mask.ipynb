{
 "cells": [
  {
   "cell_type": "code",
   "execution_count": 1,
   "id": "30bf1016",
   "metadata": {},
   "outputs": [],
   "source": [
    "from tensorflow.keras.models import load_model\n",
    "from tensorflow.keras.applications.mobilenet_v2 import preprocess_input\n",
    "import numpy as np\n",
    "import cv2"
   ]
  },
  {
   "cell_type": "code",
   "execution_count": 2,
   "id": "445407a1",
   "metadata": {},
   "outputs": [],
   "source": [
    "# Load HAAR face classifier\n",
    "face_classifier = cv2.CascadeClassifier('Haarcascades/haarcascade_frontalface_default.xml')\n",
    "\n",
    "# Load functions\n",
    "def face_extractor(img):\n",
    "    # Function detects faces and returns the cropped face\n",
    "    # If no face detected, it returns the input image\n",
    "    \n",
    "#     gray = cv2.cvtColor(img,cv2.COLOR_BGR2GRAY)\n",
    "    faces = face_classifier.detectMultiScale(img)\n",
    "    \n",
    "    if faces == ():\n",
    "        return None\n",
    "    \n",
    "    # Crop all faces found\n",
    "#     for (x,y,w,h) in faces:\n",
    "#         cropped_face = img[y:y+h, x:x+w]\n",
    "\n",
    "    return faces"
   ]
  },
  {
   "cell_type": "code",
   "execution_count": 3,
   "id": "90f8d38d",
   "metadata": {},
   "outputs": [],
   "source": [
    "model=load_model(\"MaskModel.h5\")\n"
   ]
  },
  {
   "cell_type": "code",
   "execution_count": 11,
   "id": "329ffe2a",
   "metadata": {},
   "outputs": [
    {
     "name": "stderr",
     "output_type": "stream",
     "text": [
      "C:\\Users\\amir\\AppData\\Local\\Temp/ipykernel_5820/184631142.py:12: DeprecationWarning: elementwise comparison failed; this will raise an error in the future.\n",
      "  if faces == ():\n"
     ]
    }
   ],
   "source": [
    "cap=cv2.VideoCapture(0)\n",
    "fourcc = cv2.VideoWriter_fourcc(*'XVID')\n",
    "out = cv2.VideoWriter('output.avi', fourcc, 20.0, (640, 480))\n",
    "while True:\n",
    "\n",
    "    ret,frame_org = cap.read()\n",
    "    if not ret:\n",
    "        print('error retrieving frame')\n",
    "        continue\n",
    "    faces = face_extractor(frame_org)\n",
    "    \n",
    "    try:\n",
    "        for x,y,w,h in faces:\n",
    "            xn,yn,wn,hn=int(x*1.1),int(y*1.1),int(w*1.3),int(h*1.3) #scale cropped image to better detect mask by model\n",
    "            cropped_face = frame_org[yn:yn+hn, xn:xn+wn]\n",
    "            cropped_face=cv2.cvtColor(cropped_face, cv2.COLOR_BGR2RGB)\n",
    "            cropped_face=cv2.resize(cropped_face, (200, 200),interpolation= cv2.INTER_LINEAR).reshape(1,200,200,3)\n",
    "            cropped_face=preprocess_input(cropped_face)\n",
    "            \n",
    "            yes,no = model.predict(cropped_face)[0]\n",
    "            \n",
    "            if yes>=.5:\n",
    "                cv2.rectangle(frame_org,(x,y),(x+w,y+h),(0,255,0),2)\n",
    "                cv2.rectangle(frame_org,(x,y-40),(x+w,y),(0,255,0),-1)\n",
    "                cv2.putText(frame_org, 'Mask ({}%)'.format(round(yes*100,2)) , (x, y-10),cv2.FONT_HERSHEY_SIMPLEX,0.8,(255,255,255),2)\n",
    "                \n",
    "                \n",
    "            else:\n",
    "                cv2.rectangle(frame_org,(x,y),(x+w,y+h),(0,0,255),2)\n",
    "                cv2.rectangle(frame_org,(x,y-40),(x+w,y),(0,0,255),-1)\n",
    "                cv2.putText(frame_org, 'No Mask ({}%)'.format(round(no*100,2)) , (x, y-10),cv2.FONT_HERSHEY_SIMPLEX,0.8,(255,255,255),2)\n",
    "    except:\n",
    "        pass\n",
    "        \n",
    "    out.write(frame_org)   \n",
    "    cv2.imshow('Frame',   frame_org)\n",
    "    key = cv2.waitKey(30)\n",
    "    # if Esc key is press then break out of the loop \n",
    "    if key == 27: #The Esc key\n",
    "        break\n",
    "# Stop video\n",
    "cap.release()\n",
    "out.release() \n",
    "# Close all started windows\n",
    "cv2.destroyAllWindows() \n"
   ]
  },
  {
   "cell_type": "code",
   "execution_count": null,
   "id": "d4749c97",
   "metadata": {},
   "outputs": [],
   "source": []
  },
  {
   "cell_type": "code",
   "execution_count": null,
   "id": "dd0bca37",
   "metadata": {},
   "outputs": [],
   "source": []
  }
 ],
 "metadata": {
  "kernelspec": {
   "display_name": "Python 3 (ipykernel)",
   "language": "python",
   "name": "python3"
  },
  "language_info": {
   "codemirror_mode": {
    "name": "ipython",
    "version": 3
   },
   "file_extension": ".py",
   "mimetype": "text/x-python",
   "name": "python",
   "nbconvert_exporter": "python",
   "pygments_lexer": "ipython3",
   "version": "3.9.1"
  }
 },
 "nbformat": 4,
 "nbformat_minor": 5
}
