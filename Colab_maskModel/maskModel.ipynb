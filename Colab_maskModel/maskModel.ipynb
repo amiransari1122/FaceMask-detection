{
  "nbformat": 4,
  "nbformat_minor": 0,
  "metadata": {
    "colab": {
      "name": "maskModel",
      "provenance": []
    },
    "kernelspec": {
      "name": "python3",
      "display_name": "Python 3"
    },
    "language_info": {
      "name": "python"
    }
  },
  "cells": [
    {
      "cell_type": "code",
      "metadata": {
        "id": "fDAVDskAECjM"
      },
      "source": [
        "from keras.layers import Input, Activation, Conv2D, Flatten, Dense, MaxPooling2D,Dropout\n",
        "from keras.models import Model\n",
        "from keras.models import Sequential\n",
        "from keras.preprocessing.image import ImageDataGenerator\n",
        "from tensorflow.keras.preprocessing.image import img_to_array\n",
        "from tensorflow.keras.preprocessing.image import load_img\n",
        "import os\n",
        "import numpy as np\n",
        "import matplotlib.pyplot as plt\n",
        "\n"
      ],
      "execution_count": null,
      "outputs": []
    },
    {
      "cell_type": "code",
      "metadata": {
        "id": "w1SW46g5Dzjm"
      },
      "source": [
        "!unzip \"/content/face-mask-dataset.zip\"\n",
        "!unzip \"/content/Dataset/train.zip\"\n",
        "!unzip \"/content/Dataset/test.zip\""
      ],
      "execution_count": null,
      "outputs": []
    },
    {
      "cell_type": "code",
      "metadata": {
        "colab": {
          "base_uri": "https://localhost:8080/"
        },
        "id": "Gv3OCrxEI8ot",
        "outputId": "46d63c54-8756-474a-de9c-53e2599e3e31"
      },
      "source": [
        "train_path=\"/content/train/\"\n",
        "test_path=\"/content/test/\"\n",
        "train_Labels=[]\n",
        "test_Labels=[]\n",
        "train_imgs=[]\n",
        "test_imgs=[]\n",
        "\n",
        "for i,path in enumerate(os.listdir(train_path)):\n",
        "  \n",
        "  for img in os.listdir(train_path+path):\n",
        "    train_Labels.append([i,(i+1)%2])\n",
        "    image=load_img(os.path.join(train_path+path,img),target_size=(200,200))\n",
        "    image=img_to_array(image)\n",
        "    image=preprocess_input(image)\n",
        "    train_imgs.append(image)\n",
        "  print(i)\n",
        "  print(path)\n",
        "\n",
        "\n",
        "\n",
        "\n",
        "for i,path in enumerate(os.listdir(test_path)):\n",
        "  \n",
        "  for img in os.listdir(test_path+path):\n",
        "    test_Labels.append([i,(i+1)%2])\n",
        "    image=load_img(os.path.join(test_path+path,img),target_size=(200,200))\n",
        "    image=img_to_array(image)\n",
        "    image=preprocess_input(image)\n",
        "    test_imgs.append(image)\n",
        "  print(i)\n",
        "  print(path)\n",
        "\n"
      ],
      "execution_count": null,
      "outputs": [
        {
          "output_type": "stream",
          "name": "stdout",
          "text": [
            "0\n",
            "without_mask\n",
            "1\n",
            "with_mask\n",
            "0\n",
            "without_mask\n",
            "1\n",
            "with_mask\n"
          ]
        }
      ]
    },
    {
      "cell_type": "code",
      "metadata": {
        "id": "mBNl-YyKV2cX"
      },
      "source": [
        "# convert the data and labels to NumPy arrays\n",
        "train_imgs = np.array(train_imgs, dtype=\"float32\")\n",
        "train_Labels = np.array(train_Labels)\n",
        "\n",
        "test_imgs = np.array(test_imgs, dtype=\"float32\")\n",
        "test_Labels = np.array(test_Labels)\n",
        "\n"
      ],
      "execution_count": null,
      "outputs": []
    },
    {
      "cell_type": "code",
      "metadata": {
        "id": "0YcLf38DYmxu"
      },
      "source": [
        "#data augmentation\n",
        "aug = ImageDataGenerator(\n",
        "\trotation_range=20,\n",
        "\tzoom_range=0.15,\n",
        "\twidth_shift_range=0.2,\n",
        "\theight_shift_range=0.2,\n",
        "\tshear_range=0.15,\n",
        "\thorizontal_flip=True,\n",
        "\tfill_mode=\"nearest\")"
      ],
      "execution_count": null,
      "outputs": []
    },
    {
      "cell_type": "code",
      "metadata": {
        "colab": {
          "base_uri": "https://localhost:8080/"
        },
        "id": "5hlbVbMLaip3",
        "outputId": "33a5e2c0-0d77-4a55-a854-90ff1308f031"
      },
      "source": [
        "model =Sequential([\n",
        "    Conv2D(32, (3,3), activation='relu', input_shape=(200, 200, 3)),\n",
        "    MaxPooling2D(2,2),\n",
        "    \n",
        "    Conv2D(64, (3,3), activation='relu'),\n",
        "    MaxPooling2D(2,2),\n",
        "\n",
        "    Conv2D(128, (3,3), activation='relu'),\n",
        "    MaxPooling2D(2,2),\n",
        "    \n",
        "    Flatten(),\n",
        "    Dropout(0.5),\n",
        "    Dense(128, activation='relu'),\n",
        "    Dense(2, activation='softmax')\n",
        "])\n",
        "model.compile(optimizer='adam', loss='binary_crossentropy', metrics=['acc'])\n",
        "\n",
        "Epochs=10\n",
        "batch=20\n",
        "H = model.fit(\n",
        "\taug.flow(train_imgs, train_Labels, batch_size=batch),\n",
        "\tvalidation_data=(test_imgs, test_Labels),\n",
        "\tepochs=Epochs,shuffle=True)"
      ],
      "execution_count": null,
      "outputs": [
        {
          "output_type": "stream",
          "name": "stdout",
          "text": [
            "Epoch 1/10\n",
            "66/66 [==============================] - 114s 2s/step - loss: 0.4447 - acc: 0.8167 - val_loss: 0.1342 - val_acc: 0.9639\n",
            "Epoch 2/10\n",
            "66/66 [==============================] - 114s 2s/step - loss: 0.2345 - acc: 0.9186 - val_loss: 0.0422 - val_acc: 0.9845\n",
            "Epoch 3/10\n",
            "66/66 [==============================] - 113s 2s/step - loss: 0.1850 - acc: 0.9407 - val_loss: 0.0361 - val_acc: 0.9948\n",
            "Epoch 4/10\n",
            "66/66 [==============================] - 113s 2s/step - loss: 0.1313 - acc: 0.9597 - val_loss: 0.0213 - val_acc: 0.9897\n",
            "Epoch 5/10\n",
            "66/66 [==============================] - 112s 2s/step - loss: 0.1513 - acc: 0.9475 - val_loss: 0.0224 - val_acc: 1.0000\n",
            "Epoch 6/10\n",
            "66/66 [==============================] - 113s 2s/step - loss: 0.1510 - acc: 0.9445 - val_loss: 0.0377 - val_acc: 0.9897\n",
            "Epoch 7/10\n",
            "66/66 [==============================] - 112s 2s/step - loss: 0.1174 - acc: 0.9605 - val_loss: 0.0202 - val_acc: 0.9948\n",
            "Epoch 8/10\n",
            "66/66 [==============================] - 113s 2s/step - loss: 0.1508 - acc: 0.9506 - val_loss: 0.0206 - val_acc: 0.9948\n",
            "Epoch 9/10\n",
            "66/66 [==============================] - 113s 2s/step - loss: 0.1053 - acc: 0.9681 - val_loss: 0.0254 - val_acc: 1.0000\n",
            "Epoch 10/10\n",
            "66/66 [==============================] - 112s 2s/step - loss: 0.1184 - acc: 0.9574 - val_loss: 0.0118 - val_acc: 1.0000\n"
          ]
        }
      ]
    },
    {
      "cell_type": "code",
      "metadata": {
        "colab": {
          "base_uri": "https://localhost:8080/",
          "height": 545
        },
        "id": "N_gdK147tWDS",
        "outputId": "6b66b9a0-a64b-4034-fd7d-22fe4ad0085d"
      },
      "source": [
        "plt.figure(1)\n",
        "plt.plot(np.arange(0, Epochs), H.history[\"loss\"], label=\"train_loss\")\n",
        "plt.plot(np.arange(0, Epochs), H.history[\"val_loss\"], label=\"val_loss\")\n",
        "plt.xlabel(\"Epochs\")\n",
        "plt.ylabel(\"Loss\")\n",
        "plt.legend(loc=\"best\")\n",
        "\n",
        "plt.figure(2)\n",
        "plt.plot(np.arange(0,Epochs), H.history[\"acc\"], label=\"train_acc\")\n",
        "plt.plot(np.arange(0, Epochs), H.history[\"val_acc\"], label=\"val_acc\")\n",
        "plt.legend(loc=\"best\")"
      ],
      "execution_count": null,
      "outputs": [
        {
          "output_type": "execute_result",
          "data": {
            "text/plain": [
              "<matplotlib.legend.Legend at 0x7f562623ba90>"
            ]
          },
          "metadata": {},
          "execution_count": 14
        },
        {
          "output_type": "display_data",
          "data": {
            "image/png": "[encoded data removed]",
            "text/plain": [
              "<Figure size 432x288 with 1 Axes>"
            ]
          },
          "metadata": {
            "needs_background": "light"
          }
        },
        {
          "output_type": "display_data",
          "data": {
            "image/png": "[encoded data removed]",
            "text/plain": [
              "<Figure size 432x288 with 1 Axes>"
            ]
          },
          "metadata": {
            "needs_background": "light"
          }
        }
      ]
    },
    {
      "cell_type": "code",
      "metadata": {
        "id": "Q0vsE8HSvmP5"
      },
      "source": [
        "#Save the model\n",
        "model.save('MaskModel.h5')"
      ],
      "execution_count": null,
      "outputs": []
    }
  ]
}